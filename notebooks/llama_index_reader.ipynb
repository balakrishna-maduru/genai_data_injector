{
 "cells": [
  {
   "cell_type": "code",
   "execution_count": 1,
   "metadata": {},
   "outputs": [],
   "source": [
    "import os.path\n",
    "from llama_index import (\n",
    "    VectorStoreIndex,\n",
    "    SimpleDirectoryReader,\n",
    "    StorageContext,\n",
    "    load_index_from_storage,\n",
    ")"
   ]
  },
  {
   "cell_type": "code",
   "execution_count": 4,
   "metadata": {},
   "outputs": [
    {
     "data": {
      "text/plain": [
       "[Document(id_='786a8bf8-db72-45f6-b883-940c9629f662', embedding=None, metadata={'page_label': '1', 'file_name': 'sample.pdf', 'file_path': '/Users/balakrishnamaduru/Documents/git/genai_data_injector/tests/resources/input/sample.pdf', 'file_type': 'application/pdf', 'file_size': 26135, 'creation_date': '2023-12-11', 'last_modified_date': '2023-12-11', 'last_accessed_date': '2023-12-11'}, excluded_embed_metadata_keys=['file_name', 'file_type', 'file_size', 'creation_date', 'last_modified_date', 'last_accessed_date'], excluded_llm_metadata_keys=['file_name', 'file_type', 'file_size', 'creation_date', 'last_modified_date', 'last_accessed_date'], relationships={}, hash='c92446415d86e558ae8ebe48e61e2bb076c7bf0aa7b221ff75e54802ce6d7ee1', text='We are in ﬁrst page 1 and line 1. We are in Line2.   ', start_char_idx=None, end_char_idx=None, text_template='{metadata_str}\\n\\n{content}', metadata_template='{key}: {value}', metadata_seperator='\\n'),\n",
       " Document(id_='7257499f-5414-46b4-a861-b819fc5fb0e9', embedding=None, metadata={'page_label': '2', 'file_name': 'sample.pdf', 'file_path': '/Users/balakrishnamaduru/Documents/git/genai_data_injector/tests/resources/input/sample.pdf', 'file_type': 'application/pdf', 'file_size': 26135, 'creation_date': '2023-12-11', 'last_modified_date': '2023-12-11', 'last_accessed_date': '2023-12-11'}, excluded_embed_metadata_keys=['file_name', 'file_type', 'file_size', 'creation_date', 'last_modified_date', 'last_accessed_date'], excluded_llm_metadata_keys=['file_name', 'file_type', 'file_size', 'creation_date', 'last_modified_date', 'last_accessed_date'], relationships={}, hash='d267485243b4e5ad5f4003e6494b55996a8e8f1d25447445a5ae779fa59091c2', text='We are in page2. Header1 Header2 Data1 Data2  \\n  \\n', start_char_idx=None, end_char_idx=None, text_template='{metadata_str}\\n\\n{content}', metadata_template='{key}: {value}', metadata_seperator='\\n')]"
      ]
     },
     "execution_count": 4,
     "metadata": {},
     "output_type": "execute_result"
    }
   ],
   "source": [
    "# if not os.path.exists(\"./storage\"):\n",
    "documents = SimpleDirectoryReader(input_files=[\"/Users/balakrishnamaduru/Documents/git/genai_data_injector/tests/resources/input/sample.pdf\"]).load_data()\n",
    "    # index = VectorStoreIndex.from_documents(documents)\n",
    "    # index.storage_context.persist()\n",
    "# else:\n",
    "    # storage_context = StorageContext.from_defaults(persist_dir=\"./storage\")\n",
    "    # index = load_index_from_storage(storage_context)\n",
    "documents"
   ]
  },
  {
   "cell_type": "code",
   "execution_count": 9,
   "metadata": {},
   "outputs": [
    {
     "data": {
      "text/plain": [
       "{'id_': '7257499f-5414-46b4-a861-b819fc5fb0e9',\n",
       " 'embedding': None,\n",
       " 'metadata': {'page_label': '2',\n",
       "  'file_name': 'sample.pdf',\n",
       "  'file_path': '/Users/balakrishnamaduru/Documents/git/genai_data_injector/tests/resources/input/sample.pdf',\n",
       "  'file_type': 'application/pdf',\n",
       "  'file_size': 26135,\n",
       "  'creation_date': '2023-12-11',\n",
       "  'last_modified_date': '2023-12-11',\n",
       "  'last_accessed_date': '2023-12-11'},\n",
       " 'excluded_embed_metadata_keys': ['file_name',\n",
       "  'file_type',\n",
       "  'file_size',\n",
       "  'creation_date',\n",
       "  'last_modified_date',\n",
       "  'last_accessed_date'],\n",
       " 'excluded_llm_metadata_keys': ['file_name',\n",
       "  'file_type',\n",
       "  'file_size',\n",
       "  'creation_date',\n",
       "  'last_modified_date',\n",
       "  'last_accessed_date'],\n",
       " 'relationships': {},\n",
       " 'hash': 'd267485243b4e5ad5f4003e6494b55996a8e8f1d25447445a5ae779fa59091c2',\n",
       " 'text': 'We are in page2. Header1 Header2 Data1 Data2  \\n  \\n',\n",
       " 'start_char_idx': None,\n",
       " 'end_char_idx': None,\n",
       " 'text_template': '{metadata_str}\\n\\n{content}',\n",
       " 'metadata_template': '{key}: {value}',\n",
       " 'metadata_seperator': '\\n'}"
      ]
     },
     "execution_count": 9,
     "metadata": {},
     "output_type": "execute_result"
    }
   ],
   "source": [
    "documents[0].__dict__\n",
    "documents[1].__dict__"
   ]
  },
  {
   "cell_type": "code",
   "execution_count": null,
   "metadata": {},
   "outputs": [],
   "source": [
    "query_engine = index.as_query_engine()\n",
    "response = query_engine.query(\"What did the author do growing up?\")\n",
    "print(response)"
   ]
  }
 ],
 "metadata": {
  "kernelspec": {
   "display_name": "llama_dev",
   "language": "python",
   "name": "python3"
  },
  "language_info": {
   "codemirror_mode": {
    "name": "ipython",
    "version": 3
   },
   "file_extension": ".py",
   "mimetype": "text/x-python",
   "name": "python",
   "nbconvert_exporter": "python",
   "pygments_lexer": "ipython3",
   "version": "3.10.0"
  }
 },
 "nbformat": 4,
 "nbformat_minor": 2
}
