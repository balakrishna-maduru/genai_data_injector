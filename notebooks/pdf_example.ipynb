{
 "cells": [
  {
   "cell_type": "code",
   "execution_count": 1,
   "metadata": {},
   "outputs": [],
   "source": [
    "import sys\n",
    "sys.path.append(\"..\")\n",
    "import genai_inchoate_data as gid\n"
   ]
  },
  {
   "cell_type": "code",
   "execution_count": 2,
   "metadata": {},
   "outputs": [
    {
     "name": "stdout",
     "output_type": "stream",
     "text": [
      "{'file_name': 'sample.pdf', 'file_path': '/Users/balakrishnamaduru/Documents/git/genai_data_injector/tests/resources/input/sample.pdf', 'file_size': 26135, 'file_type': '.pdf', 'creation_time': 'Mon Dec 11 18:02:44 2023', 'modification_time': 'Mon Dec 11 18:02:44 2023', 'page_label': 1}\n",
      "{'file_name': 'sample.pdf', 'file_path': '/Users/balakrishnamaduru/Documents/git/genai_data_injector/tests/resources/input/sample.pdf', 'file_size': 26135, 'file_type': '.pdf', 'creation_time': 'Mon Dec 11 18:02:44 2023', 'modification_time': 'Mon Dec 11 18:02:44 2023', 'page_label': 2}\n"
     ]
    },
    {
     "data": {
      "text/plain": [
       "[{'doc_id': '04702e06-1b20-478f-8c7c-57afc4f7a8d7',\n",
       "  'text': 'We are in ﬁrst page 1 and line 1. We are in Line2.   ',\n",
       "  'metadata': {'file_name': 'sample.pdf',\n",
       "   'file_path': '/Users/balakrishnamaduru/Documents/git/genai_data_injector/tests/resources/input/sample.pdf',\n",
       "   'file_size': 26135,\n",
       "   'file_type': '.pdf',\n",
       "   'creation_time': 'Mon Dec 11 18:02:44 2023',\n",
       "   'modification_time': 'Mon Dec 11 18:02:44 2023',\n",
       "   'page_label': 1},\n",
       "  'hash': 'a0c3dfa13dec94369205bae819069128e7ebb2fe11d692bf8d4f89aef2c5f051'},\n",
       " {'doc_id': '4014764c-c952-4e6b-b233-bf52f2e7a2c2',\n",
       "  'text': 'We are in page2. Header1 Header2 Data1 Data2  \\n  \\n',\n",
       "  'metadata': {'file_name': 'sample.pdf',\n",
       "   'file_path': '/Users/balakrishnamaduru/Documents/git/genai_data_injector/tests/resources/input/sample.pdf',\n",
       "   'file_size': 26135,\n",
       "   'file_type': '.pdf',\n",
       "   'creation_time': 'Mon Dec 11 18:02:44 2023',\n",
       "   'modification_time': 'Mon Dec 11 18:02:44 2023',\n",
       "   'page_label': 2},\n",
       "  'hash': '54b1542735b886cc6e87096651961d4ef9ddd8b464b4fdce1e4f3c56b621d372'}]"
      ]
     },
     "execution_count": 2,
     "metadata": {},
     "output_type": "execute_result"
    }
   ],
   "source": [
    "parse = gid                                                                                                                                                             .parser('/Users/balakrishnamaduru/Documents/git/genai_data_injector/tests/resources/input/sample.pdf')\n",
    "parse.extract_text()"
   ]
  }
 ],
 "metadata": {
  "kernelspec": {
   "display_name": "llama_dev",
   "language": "python",
   "name": "python3"
  },
  "language_info": {
   "codemirror_mode": {
    "name": "ipython",
    "version": 3
   },
   "file_extension": ".py",
   "mimetype": "text/x-python",
   "name": "python",
   "nbconvert_exporter": "python",
   "pygments_lexer": "ipython3",
   "version": "3.10.0"
  }
 },
 "nbformat": 4,
 "nbformat_minor": 2
}
